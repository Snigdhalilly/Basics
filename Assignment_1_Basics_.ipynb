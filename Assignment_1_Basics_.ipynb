{
  "nbformat": 4,
  "nbformat_minor": 0,
  "metadata": {
    "colab": {
      "provenance": []
    },
    "kernelspec": {
      "name": "python3",
      "display_name": "Python 3"
    },
    "language_info": {
      "name": "python"
    }
  },
  "cells": [
    {
      "cell_type": "code",
      "execution_count": null,
      "metadata": {
        "id": "EZfA_V1awSdr"
      },
      "outputs": [],
      "source": []
    },
    {
      "cell_type": "markdown",
      "source": [
        "1.Explain the key features of Python that make it a popular choice for programming?\n",
        "Ans:\n",
        "a. The key features of python is known for readability and simplicity.\n",
        "b. It's a interpreted language.\n",
        "c. No need to define variable types ex: x = 10 # int\n",
        "d. Ease of learning."
      ],
      "metadata": {
        "id": "xwWFNoQbwoYv"
      }
    },
    {
      "cell_type": "markdown",
      "source": [],
      "metadata": {
        "id": "WQN805aayVfF"
      }
    },
    {
      "cell_type": "markdown",
      "source": [
        "\"\"\"\n",
        "2. Describe the role of predefined keywords in Python and provide examples of how they are used in a\n",
        "program?\n",
        "\n",
        "Ans: The role of predefined keywords in python are reserved keywords. It cannot be used as variables names, functions names. Example are\n",
        "if, elif, else (conditionals statements)\n",
        "for, while, break, continue (looping statements)"
      ],
      "metadata": {
        "id": "bPnPsrfWy_RF"
      }
    },
    {
      "cell_type": "code",
      "source": [
        "x = 10\n",
        "if x % 2 == 0:\n",
        "  print(\"even\")\n",
        "elif x != 0:\n",
        "  print(\"odd\")\n",
        "else:\n",
        "  print(\"none\")"
      ],
      "metadata": {
        "colab": {
          "base_uri": "https://localhost:8080/"
        },
        "id": "JN3aS5I81VmS",
        "outputId": "d6d912a6-8c3e-49cd-8a1e-2238659fd34b"
      },
      "execution_count": null,
      "outputs": [
        {
          "output_type": "stream",
          "name": "stdout",
          "text": [
            "even\n"
          ]
        }
      ]
    },
    {
      "cell_type": "code",
      "source": [
        "count = 0\n",
        "while count < 3:\n",
        "    print(\"Count is\", count)\n",
        "    count += 1\n"
      ],
      "metadata": {
        "colab": {
          "base_uri": "https://localhost:8080/"
        },
        "id": "hR1OyoIL9Jhw",
        "outputId": "6ea04d17-9daf-44d1-f9da-00fc40c2fcfe"
      },
      "execution_count": null,
      "outputs": [
        {
          "output_type": "stream",
          "name": "stdout",
          "text": [
            "Count is 0\n",
            "Count is 1\n",
            "Count is 2\n"
          ]
        }
      ]
    },
    {
      "cell_type": "code",
      "source": [
        "num = 1\n",
        "while num <= 5:\n",
        "    if num == 4:\n",
        "        break\n",
        "    print(num)\n",
        "    num += 1\n"
      ],
      "metadata": {
        "colab": {
          "base_uri": "https://localhost:8080/"
        },
        "id": "ncMTysoz9RnX",
        "outputId": "27f6093d-3524-4ed9-9c84-faccd56c67b8"
      },
      "execution_count": null,
      "outputs": [
        {
          "output_type": "stream",
          "name": "stdout",
          "text": [
            "1\n",
            "2\n",
            "3\n"
          ]
        }
      ]
    },
    {
      "cell_type": "code",
      "source": [
        "num = 0\n",
        "while num < 5:\n",
        "    num += 1\n",
        "    if num == 3:\n",
        "        continue\n",
        "    print(num)\n"
      ],
      "metadata": {
        "colab": {
          "base_uri": "https://localhost:8080/"
        },
        "id": "Do9Xv4PR9V_C",
        "outputId": "717fa93d-ded3-4b5b-cf07-23308866f530"
      },
      "execution_count": null,
      "outputs": [
        {
          "output_type": "stream",
          "name": "stdout",
          "text": [
            "1\n",
            "2\n",
            "4\n",
            "5\n"
          ]
        }
      ]
    },
    {
      "cell_type": "code",
      "source": [
        "for i in range(5):\n",
        "    print(\"Value is\", i)\n"
      ],
      "metadata": {
        "colab": {
          "base_uri": "https://localhost:8080/"
        },
        "id": "VJm16nFZ9ZvZ",
        "outputId": "30b02ee9-564a-47d0-ac97-c736f0bf5de0"
      },
      "execution_count": null,
      "outputs": [
        {
          "output_type": "stream",
          "name": "stdout",
          "text": [
            "Value is 0\n",
            "Value is 1\n",
            "Value is 2\n",
            "Value is 3\n",
            "Value is 4\n"
          ]
        }
      ]
    },
    {
      "cell_type": "markdown",
      "source": [],
      "metadata": {
        "id": "hR0sUC3oyP5D"
      }
    },
    {
      "cell_type": "markdown",
      "source": [
        "3. Compare and contrast mutable and immutable objects in Python with examples?\n",
        "Ans:\n",
        "Mutable objects can be changed after\n",
        "creation. And the changes affect the object in places.\n",
        "Ex: List, Dict, set, bytearray\n"
      ],
      "metadata": {
        "id": "1IKbqFzu_p2T"
      }
    },
    {
      "cell_type": "code",
      "source": [
        "#List\n",
        "my_list = [1, 3, 6, 9]\n",
        "my_list[0] = 7\n",
        "print(my_list)"
      ],
      "metadata": {
        "colab": {
          "base_uri": "https://localhost:8080/"
        },
        "id": "VG9YsX4EAilv",
        "outputId": "0d012a1a-4083-4c66-fd43-256f4d95540b"
      },
      "execution_count": null,
      "outputs": [
        {
          "output_type": "stream",
          "name": "stdout",
          "text": [
            "[7, 3, 6, 9]\n"
          ]
        }
      ]
    },
    {
      "cell_type": "markdown",
      "source": [
        "Immutable objects are cannot be changed after creation.\n",
        "  Ex: int, float, str, tuple, bool"
      ],
      "metadata": {
        "id": "6szW5A2OBeWe"
      }
    },
    {
      "cell_type": "code",
      "source": [
        "#tuple\n",
        "my_tuple = (\"apple\", \"banana\", \"cherry\")\n",
        "print(my_tuple[2])\n"
      ],
      "metadata": {
        "colab": {
          "base_uri": "https://localhost:8080/"
        },
        "id": "-gdCtks2BCYY",
        "outputId": "2c31e039-7fde-42ab-c467-341b60249a90"
      },
      "execution_count": null,
      "outputs": [
        {
          "output_type": "stream",
          "name": "stdout",
          "text": [
            "cherry\n"
          ]
        }
      ]
    },
    {
      "cell_type": "markdown",
      "source": [
        "4. Discuss the different types of operators in Python and provide examples of how they are used?\n",
        "Ans:\n",
        "\n",
        "\n"
      ],
      "metadata": {
        "id": "0s_pFZPRDmF_"
      }
    },
    {
      "cell_type": "code",
      "source": [
        "# Arithmetoc operators(+, -, %, *, /, //, **)\n",
        "a = 10\n",
        "b = 4\n",
        "print(a+b)\n",
        "print(a-b)\n",
        "print(a*b)\n",
        "print(a/b)\n",
        "print(a//b)\n",
        "print(a%b)\n",
        "print(a**b)"
      ],
      "metadata": {
        "colab": {
          "base_uri": "https://localhost:8080/"
        },
        "id": "8vm3no62D_Fr",
        "outputId": "de55a578-f868-4710-aea6-3a7eb3f0a594"
      },
      "execution_count": null,
      "outputs": [
        {
          "output_type": "stream",
          "name": "stdout",
          "text": [
            "14\n",
            "6\n",
            "40\n",
            "2.5\n",
            "2\n",
            "2\n",
            "10000\n"
          ]
        }
      ]
    },
    {
      "cell_type": "code",
      "source": [
        "# Assignment operators(=, +=, -=, *=, /=)\n",
        "x = 3\n",
        "x += 2\n",
        "print(x)\n"
      ],
      "metadata": {
        "colab": {
          "base_uri": "https://localhost:8080/"
        },
        "id": "-8J_qJitE1jN",
        "outputId": "66acfee0-41eb-4ef3-9ab8-67d2027df731"
      },
      "execution_count": null,
      "outputs": [
        {
          "output_type": "stream",
          "name": "stdout",
          "text": [
            "5\n"
          ]
        }
      ]
    },
    {
      "cell_type": "code",
      "source": [
        "x = 5\n",
        "x -= 3\n",
        "print(x)"
      ],
      "metadata": {
        "colab": {
          "base_uri": "https://localhost:8080/"
        },
        "id": "i471jsweFtF5",
        "outputId": "847ec4a4-8d7f-44aa-c5b1-6d3845db83a4"
      },
      "execution_count": null,
      "outputs": [
        {
          "output_type": "stream",
          "name": "stdout",
          "text": [
            "2\n"
          ]
        }
      ]
    },
    {
      "cell_type": "code",
      "source": [
        "x = 5\n",
        "x *= 3\n",
        "print(x)"
      ],
      "metadata": {
        "colab": {
          "base_uri": "https://localhost:8080/"
        },
        "id": "vL8xsdx_F4NI",
        "outputId": "84dca707-88de-4e31-f81d-09a6e5cd5056"
      },
      "execution_count": null,
      "outputs": [
        {
          "output_type": "stream",
          "name": "stdout",
          "text": [
            "15\n"
          ]
        }
      ]
    },
    {
      "cell_type": "code",
      "source": [
        "x = 4\n",
        "x /= 2\n",
        "print(x)"
      ],
      "metadata": {
        "colab": {
          "base_uri": "https://localhost:8080/"
        },
        "id": "rwTa5SR6F9dJ",
        "outputId": "0d7d9046-d0d0-49e3-9bd2-adf9e757c904"
      },
      "execution_count": null,
      "outputs": [
        {
          "output_type": "stream",
          "name": "stdout",
          "text": [
            "2.0\n"
          ]
        }
      ]
    },
    {
      "cell_type": "code",
      "source": [
        "# Comparision operators (==, !=, <, >, <=, >=)\n",
        "x = 24\n",
        "y = 30\n",
        "print(x==y)\n",
        "print(x!=y)\n",
        "print(x<y)\n",
        "print(x>y)\n",
        "print(x<=y)\n",
        "print(x>=y)"
      ],
      "metadata": {
        "colab": {
          "base_uri": "https://localhost:8080/"
        },
        "id": "9kwoA2z8GTQ2",
        "outputId": "001ef0c2-3b34-46ec-ec88-d0016d8a914b"
      },
      "execution_count": null,
      "outputs": [
        {
          "output_type": "stream",
          "name": "stdout",
          "text": [
            "False\n",
            "True\n",
            "True\n",
            "False\n",
            "True\n",
            "False\n"
          ]
        }
      ]
    },
    {
      "cell_type": "code",
      "source": [
        "# Logical Operators(and, or, not)\n",
        "x = 2\n",
        "y = 3\n",
        "print(x and y)\n",
        "print(x or y)\n"
      ],
      "metadata": {
        "colab": {
          "base_uri": "https://localhost:8080/"
        },
        "id": "VjuJhAhEHhbm",
        "outputId": "4c1cd0aa-4997-4bd2-9d38-6694201e0c51"
      },
      "execution_count": null,
      "outputs": [
        {
          "output_type": "stream",
          "name": "stdout",
          "text": [
            "3\n",
            "2\n"
          ]
        }
      ]
    },
    {
      "cell_type": "code",
      "source": [
        "# bitwise operators(&, |, <<, >>, ^, ~)\n",
        "a = 5\n",
        "b = 4\n",
        "print(a&b)\n",
        "print(a|b)\n",
        "print(a^b)\n",
        "print(~b)\n",
        "print(a<<b)\n",
        "print(a>>b)"
      ],
      "metadata": {
        "colab": {
          "base_uri": "https://localhost:8080/"
        },
        "id": "qyf-eDbaJYNG",
        "outputId": "862c9983-1343-45e6-8703-2c7b5be10165"
      },
      "execution_count": null,
      "outputs": [
        {
          "output_type": "stream",
          "name": "stdout",
          "text": [
            "4\n",
            "5\n",
            "1\n",
            "-5\n",
            "80\n",
            "0\n"
          ]
        }
      ]
    },
    {
      "cell_type": "code",
      "source": [
        "# Identity operators(is, is not)\n",
        "x = 10\n",
        "y = 3\n",
        "z = 10\n",
        "print(x is y)\n",
        "print(x is not y)"
      ],
      "metadata": {
        "colab": {
          "base_uri": "https://localhost:8080/"
        },
        "id": "-IHvWTGqxhZU",
        "outputId": "3a9f6305-01ff-4a3e-d4ef-4287c8fa8105"
      },
      "execution_count": null,
      "outputs": [
        {
          "output_type": "stream",
          "name": "stdout",
          "text": [
            "False\n",
            "True\n"
          ]
        }
      ]
    },
    {
      "cell_type": "code",
      "source": [
        "# Membership Operators(in, not in)\n",
        "x = ['a', 'b']\n",
        "print('a' in x)\n",
        "print('c' in x)"
      ],
      "metadata": {
        "colab": {
          "base_uri": "https://localhost:8080/"
        },
        "id": "Uc6M48KIEpJL",
        "outputId": "7d99982c-ba2e-472f-cbb6-349b2325a048"
      },
      "execution_count": null,
      "outputs": [
        {
          "output_type": "stream",
          "name": "stdout",
          "text": [
            "True\n",
            "False\n"
          ]
        }
      ]
    },
    {
      "cell_type": "markdown",
      "source": [
        "5.  Explain the concept of type casting in Python with examples?\n",
        "Ans: Type casting is the process of changing the data type to meet the requirements.There are two types Implicit and Explicit."
      ],
      "metadata": {
        "id": "49_eXrcvF-46"
      }
    },
    {
      "cell_type": "code",
      "source": [
        "#ex: Implicit type casting: It will understands the type of data type\n",
        "x = \"2\"\n",
        "type(x)\n"
      ],
      "metadata": {
        "colab": {
          "base_uri": "https://localhost:8080/"
        },
        "id": "LGbKzkvidSNM",
        "outputId": "473d4655-d854-4b3b-b43d-7942c3f90d17"
      },
      "execution_count": null,
      "outputs": [
        {
          "output_type": "execute_result",
          "data": {
            "text/plain": [
              "str"
            ]
          },
          "metadata": {},
          "execution_count": 88
        }
      ]
    },
    {
      "cell_type": "code",
      "source": [
        "#ex: Explicit type casting: It will change the built-in function into another data type\n",
        "x = 1.0\n",
        "int(x)"
      ],
      "metadata": {
        "colab": {
          "base_uri": "https://localhost:8080/"
        },
        "id": "uk7-5sxFGXlA",
        "outputId": "4c9daae5-1508-48ab-b85c-a583bccbe785"
      },
      "execution_count": null,
      "outputs": [
        {
          "output_type": "execute_result",
          "data": {
            "text/plain": [
              "1"
            ]
          },
          "metadata": {},
          "execution_count": 89
        }
      ]
    },
    {
      "cell_type": "markdown",
      "source": [
        "6.  How do conditional statements work in Python? Illustrate with example?\n",
        "Ans: 1. if: It executes if condition is true\n",
        "     2. if, else: It executes one block if condition is true or it executed another block\n",
        "     3. if, elif, else: Executes multiple conditions\n",
        "    "
      ],
      "metadata": {
        "id": "WnnqBlnMejte"
      }
    },
    {
      "cell_type": "code",
      "source": [
        "#if\n",
        "x = 10\n",
        "if x >= 10:\n",
        "  print(x)"
      ],
      "metadata": {
        "colab": {
          "base_uri": "https://localhost:8080/"
        },
        "id": "7B7qVcfBiTDF",
        "outputId": "13193648-7fc3-45a8-d42e-fca1fdf38362"
      },
      "execution_count": null,
      "outputs": [
        {
          "output_type": "stream",
          "name": "stdout",
          "text": [
            "10\n"
          ]
        }
      ]
    },
    {
      "cell_type": "code",
      "source": [
        "#if, else\n",
        "x = 5\n",
        "if x == 0:\n",
        "  print(\"even\")\n",
        "else:\n",
        "  print(\"odd\")"
      ],
      "metadata": {
        "colab": {
          "base_uri": "https://localhost:8080/"
        },
        "id": "jcdDx0yGequp",
        "outputId": "ccbcc073-8aaf-410b-938c-cba8467c8c51"
      },
      "execution_count": null,
      "outputs": [
        {
          "output_type": "stream",
          "name": "stdout",
          "text": [
            "odd\n"
          ]
        }
      ]
    },
    {
      "cell_type": "code",
      "source": [
        "#if, elif, else\n",
        "score = 100\n",
        "if score >= 90:\n",
        "  print(\"grade A\")\n",
        "elif score >= 80:\n",
        "  print(\"grade B:\")\n",
        "elif score >= 70:\n",
        "  print(\"grade C\")\n",
        "else:\n",
        "  print(\"grade F\")\n",
        "\n"
      ],
      "metadata": {
        "colab": {
          "base_uri": "https://localhost:8080/"
        },
        "id": "qb1BG1DReqrK",
        "outputId": "979fd643-84bd-4107-ad53-08c4bf4fce75"
      },
      "execution_count": null,
      "outputs": [
        {
          "output_type": "stream",
          "name": "stdout",
          "text": [
            "grade A\n"
          ]
        }
      ]
    },
    {
      "cell_type": "code",
      "source": [
        "#Nested if\n",
        "x = -1\n",
        "if x > 0:\n",
        "  if x % 2 == 0:\n",
        "    print(\"positive even\")\n",
        "  else:\n",
        "    print(\"positive odd\")\n",
        "else:\n",
        "  print(\"not a positive number\")"
      ],
      "metadata": {
        "colab": {
          "base_uri": "https://localhost:8080/"
        },
        "id": "c54_YmNjkeiI",
        "outputId": "6ac4e1df-07a9-464f-b1cd-aac8bd25184a"
      },
      "execution_count": null,
      "outputs": [
        {
          "output_type": "stream",
          "name": "stdout",
          "text": [
            "not a positive number\n"
          ]
        }
      ]
    },
    {
      "cell_type": "markdown",
      "source": [
        " 7. Describe the different types of loops in Python and their use cases with examples?\n",
        " Ans: for loop: Iterate Over a sequence\n",
        "      while loop: Repeat as long as condition is true\n",
        "      Nested loops: A loop inside another loop\n"
      ],
      "metadata": {
        "id": "0wxJVusulcMr"
      }
    },
    {
      "cell_type": "code",
      "source": [
        "#for loop\n",
        "x = \"hello\"\n",
        "for i in x:\n",
        "  print(i)"
      ],
      "metadata": {
        "colab": {
          "base_uri": "https://localhost:8080/"
        },
        "id": "JmmegXYbSGaH",
        "outputId": "d87e8f2e-5885-4433-a8d5-e5bc986ddf3b"
      },
      "execution_count": null,
      "outputs": [
        {
          "output_type": "stream",
          "name": "stdout",
          "text": [
            "h\n",
            "e\n",
            "l\n",
            "l\n",
            "o\n"
          ]
        }
      ]
    },
    {
      "cell_type": "code",
      "source": [
        "#while loop\n",
        "i = 1\n",
        "while i <=4:\n",
        "  print(\"hey\")\n",
        "  i = i + 1"
      ],
      "metadata": {
        "colab": {
          "base_uri": "https://localhost:8080/"
        },
        "id": "0R_8wPVPTAEq",
        "outputId": "fd6d380f-398f-4089-c196-04c3e3ada937"
      },
      "execution_count": null,
      "outputs": [
        {
          "output_type": "stream",
          "name": "stdout",
          "text": [
            "hey\n",
            "hey\n",
            "hey\n",
            "hey\n"
          ]
        }
      ]
    },
    {
      "cell_type": "code",
      "source": [
        "#nested loops:\n",
        "for i in range(3):\n",
        "    for j in range(2):\n",
        "        print(i, j)\n"
      ],
      "metadata": {
        "colab": {
          "base_uri": "https://localhost:8080/"
        },
        "id": "3WsjdP9xWkUM",
        "outputId": "fbb536e9-a37c-4c75-b563-05e30834c5fb"
      },
      "execution_count": null,
      "outputs": [
        {
          "output_type": "stream",
          "name": "stdout",
          "text": [
            "0 0\n",
            "0 1\n",
            "1 0\n",
            "1 1\n",
            "2 0\n",
            "2 1\n"
          ]
        }
      ]
    }
  ]
}